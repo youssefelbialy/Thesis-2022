{
 "cells": [
  {
   "cell_type": "code",
   "execution_count": null,
   "id": "f7f356fd",
   "metadata": {},
   "outputs": [],
   "source": [
    "import pandas as pd\n",
    "import numpy as np\n",
    "import json\n",
    "import os"
   ]
  },
  {
   "cell_type": "code",
   "execution_count": null,
   "id": "e339bfb1",
   "metadata": {},
   "outputs": [],
   "source": [
    "df = pd.read_csv(r'semeval-2022_task8_train-data_batch.csv')\n",
    "pair_id = []\n",
    "lang1 = []\n",
    "lang2 = []\n",
    "ove = []"
   ]
  },
  {
   "cell_type": "code",
   "execution_count": null,
   "id": "3c3d1cd4",
   "metadata": {},
   "outputs": [],
   "source": [
    "for col in df:\n",
    "    if col == 'pair_id':\n",
    "        for i, row_value in df[col].iteritems():\n",
    "            pair_id.append(df[col][i])\n",
    "    if col == 'url1_lang':\n",
    "        for i, row_value in df[col].iteritems():\n",
    "            lang1.append(df[col][i])\n",
    "    if col == 'url2_lang':\n",
    "        for i, row_value in df[col].iteritems():\n",
    "            lang2.append(df[col][i])\n"
   ]
  },
  {
   "cell_type": "code",
   "execution_count": null,
   "id": "d23a60f2",
   "metadata": {},
   "outputs": [],
   "source": [
    "directory = r'C:\\Users\\youss\\OneDrive\\Documents\\GitHub\\semeval_8_2022_ia_downloader\\output_dir'\n",
    "c = 0\n",
    "text1 = []\n",
    "text2 = []\n",
    "for i in pair_id:\n",
    "    st = i\n",
    "    first=i[8:10]\n",
    "    second = i[19:]\n",
    "    final =i[0:10]\n",
    "    final1 = i[11:]\n",
    "    la1= lang1[c]\n",
    "    la2= lang1[c]        \n",
    "    with open(os.path.join(directory +  \"\\\\\" + first + \"\\\\\" , final+\".json\") , 'r') as f:\n",
    "        data = json.load(f)        \n",
    "    with open(os.path.join(directory +  \"\\\\\" + second + \"\\\\\" , final1+\".json\") , 'r') as f:\n",
    "        data1 = json.load(f)\n",
    "  \n",
    "    texts = data1['text']\n",
    "    titles = data1['title']\n",
    "    text = data['text']\n",
    "    title = data['title']\n",
    "    text1.append(title + text)\n",
    "    text2.append(titles + texts)\n",
    "    c = c+1\n",
    "        "
   ]
  },
  {
   "cell_type": "code",
   "execution_count": null,
   "id": "fd064d1f",
   "metadata": {},
   "outputs": [],
   "source": [
    "df[\"text1\"] = text1\n",
    "df[\"text2\"] = text2"
   ]
  },
  {
   "cell_type": "code",
   "execution_count": null,
   "id": "97e2c16c",
   "metadata": {},
   "outputs": [],
   "source": [
    "df = df.drop(['link1', 'link2', 'ia_link1', 'ia_link2'], axis=1)"
   ]
  },
  {
   "cell_type": "code",
   "execution_count": null,
   "id": "82d6cd00",
   "metadata": {},
   "outputs": [],
   "source": [
    "df.to_csv('Training_data.csv', encoding='utf-8')"
   ]
  },
  {
   "cell_type": "code",
   "execution_count": null,
   "id": "d3b292f7",
   "metadata": {},
   "outputs": [],
   "source": []
  }
 ],
 "metadata": {
  "kernelspec": {
   "display_name": "Python 3 (ipykernel)",
   "language": "python",
   "name": "python3"
  },
  "language_info": {
   "codemirror_mode": {
    "name": "ipython",
    "version": 3
   },
   "file_extension": ".py",
   "mimetype": "text/x-python",
   "name": "python",
   "nbconvert_exporter": "python",
   "pygments_lexer": "ipython3",
   "version": "3.9.7"
  }
 },
 "nbformat": 4,
 "nbformat_minor": 5
}
