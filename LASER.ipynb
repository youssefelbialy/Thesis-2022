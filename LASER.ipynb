{
 "cells": [
  {
   "cell_type": "code",
   "execution_count": null,
   "id": "81145570",
   "metadata": {},
   "outputs": [],
   "source": [
    "from laserembeddings import Laser\n",
    "import pandas as pd\n",
    "import numpy as np\n",
    "import json\n",
    "from sklearn.metrics.pairwise import cosine_similarity\n",
    "import os"
   ]
  },
  {
   "cell_type": "code",
   "execution_count": null,
   "id": "cbbaad03",
   "metadata": {},
   "outputs": [],
   "source": [
    "df = pd.read_csv(r'semeval-2022_task8_eval_data_202201.csv')\n",
    "pair_id = []\n",
    "lang1 = []\n",
    "lang2 = []\n",
    "ove = []"
   ]
  },
  {
   "cell_type": "code",
   "execution_count": null,
   "id": "8df5eb2a",
   "metadata": {},
   "outputs": [],
   "source": [
    "for col in df:\n",
    "    if col == 'pair_id':\n",
    "        for i, row_value in df[col].iteritems():\n",
    "            pair_id.append(df[col][i])\n",
    "    if col == 'url1_lang':\n",
    "        for i, row_value in df[col].iteritems():\n",
    "            lang1.append(df[col][i])\n",
    "    if col == 'url2_lang':\n",
    "        for i, row_value in df[col].iteritems():\n",
    "            lang2.append(df[col][i])\n"
   ]
  },
  {
   "cell_type": "code",
   "execution_count": null,
   "id": "f266ddea",
   "metadata": {},
   "outputs": [],
   "source": [
    "directory = r'C:\\Users\\youss\\OneDrive\\Documents\\GitHub\\semeval_8_2022_ia_downloader\\output_dir_eval'\n",
    "c = 0\n",
    "laser = Laser()\n",
    "for i in pair_id:\n",
    "    st = i\n",
    "    first=i[8:10]\n",
    "    second = i[19:]\n",
    "    final =i[0:10]\n",
    "    final1 = i[11:]\n",
    "    la1= lang1[c]\n",
    "    la2= lang1[c]        \n",
    "    with open(os.path.join(directory +  \"\\\\\" + first + \"\\\\\" , final+\".json\") , 'r') as f:\n",
    "        data = json.load(f)\n",
    "  \n",
    "        \n",
    "    with open(os.path.join(directory +  \"\\\\\" + second + \"\\\\\" , final1+\".json\") , 'r') as f:\n",
    "        data1 = json.load(f)\n",
    "  \n",
    "    texts = data1['text']\n",
    "    text = data['text']\n",
    "    embeddings = laser.embed_sentences(text, lang=la1)\n",
    "    embeddings1 = laser.embed_sentences(texts, lang=la2)\n",
    "    c = c+1\n",
    "    cos = cosine_similarity(embeddings, embeddings1)\n",
    "    cos.astype(np.float)\n",
    "    if (cos <= 0.25 and cos>0):\n",
    "        ove.append(1)\n",
    "    if (cos <= 0.5 and cos>0.25):\n",
    "        ove.append(2)\n",
    "    if (cos <= 0.75 and cos>0.5):\n",
    "        ove.append(3)\n",
    "    if (cos <= 1 and cos>0.75):\n",
    "        ove.append(4)"
   ]
  },
  {
   "cell_type": "code",
   "execution_count": null,
   "id": "a8a50315",
   "metadata": {},
   "outputs": [],
   "source": [
    "data = {'pair_id': pair_id , 'Overall': ove }\n",
    "df_new = pd.DataFrame(data)"
   ]
  },
  {
   "cell_type": "code",
   "execution_count": null,
   "id": "d8ead296",
   "metadata": {},
   "outputs": [],
   "source": [
    "print(df_new)"
   ]
  },
  {
   "cell_type": "code",
   "execution_count": null,
   "id": "50db47c4",
   "metadata": {},
   "outputs": [],
   "source": [
    "df_new.to_csv('LASER.csv', index=False)"
   ]
  }
 ],
 "metadata": {
  "kernelspec": {
   "display_name": "Python 3 (ipykernel)",
   "language": "python",
   "name": "python3"
  },
  "language_info": {
   "codemirror_mode": {
    "name": "ipython",
    "version": 3
   },
   "file_extension": ".py",
   "mimetype": "text/x-python",
   "name": "python",
   "nbconvert_exporter": "python",
   "pygments_lexer": "ipython3",
   "version": "3.9.7"
  }
 },
 "nbformat": 4,
 "nbformat_minor": 5
}
